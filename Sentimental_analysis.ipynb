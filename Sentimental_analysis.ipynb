{
  "nbformat": 4,
  "nbformat_minor": 0,
  "metadata": {
    "colab": {
      "name": "Sentimental analysis.ipynb",
      "provenance": [],
      "collapsed_sections": [],
      "include_colab_link": true
    },
    "kernelspec": {
      "name": "python3",
      "display_name": "Python 3"
    },
    "accelerator": "GPU"
  },
  "cells": [
    {
      "cell_type": "markdown",
      "metadata": {
        "id": "view-in-github",
        "colab_type": "text"
      },
      "source": [
        "<a href=\"https://colab.research.google.com/github/vinayakareddy/Political-Sentimental-Analysis/blob/master/Sentimental_analysis.ipynb\" target=\"_parent\"><img src=\"https://colab.research.google.com/assets/colab-badge.svg\" alt=\"Open In Colab\"/></a>"
      ]
    },
    {
      "cell_type": "code",
      "metadata": {
        "id": "Sa8Oybry6idz",
        "colab_type": "code",
        "outputId": "a16b2d68-adf8-45cf-bf1a-48428417ad0b",
        "colab": {
          "base_uri": "https://localhost:8080/",
          "height": 122
        }
      },
      "source": [
        "from google.colab import drive\n",
        "drive.mount('/content/drive')"
      ],
      "execution_count": 0,
      "outputs": [
        {
          "output_type": "stream",
          "text": [
            "Go to this URL in a browser: https://accounts.google.com/o/oauth2/auth?client_id=947318989803-6bn6qk8qdgf4n4g3pfee6491hc0brc4i.apps.googleusercontent.com&redirect_uri=urn%3aietf%3awg%3aoauth%3a2.0%3aoob&response_type=code&scope=email%20https%3a%2f%2fwww.googleapis.com%2fauth%2fdocs.test%20https%3a%2f%2fwww.googleapis.com%2fauth%2fdrive%20https%3a%2f%2fwww.googleapis.com%2fauth%2fdrive.photos.readonly%20https%3a%2f%2fwww.googleapis.com%2fauth%2fpeopleapi.readonly\n",
            "\n",
            "Enter your authorization code:\n",
            "··········\n",
            "Mounted at /content/drive\n"
          ],
          "name": "stdout"
        }
      ]
    },
    {
      "cell_type": "code",
      "metadata": {
        "id": "EMyK5XAlAraF",
        "colab_type": "code",
        "colab": {}
      },
      "source": [
        "path = \"/content/drive/My Drive/Colab Notebooks/Political dataset/\""
      ],
      "execution_count": 0,
      "outputs": []
    },
    {
      "cell_type": "code",
      "metadata": {
        "id": "5RdnNBP_G2Aw",
        "colab_type": "code",
        "colab": {}
      },
      "source": [
        "import pandas as pd\n",
        "\n",
        "import numpy as np\n",
        "\n",
        "from sklearn.neural_network import MLPClassifier\n",
        "from sklearn.metrics import accuracy_score\n",
        "from sklearn.metrics import confusion_matrix"
      ],
      "execution_count": 0,
      "outputs": []
    },
    {
      "cell_type": "markdown",
      "metadata": {
        "id": "44VAbD_b4v4Z",
        "colab_type": "text"
      },
      "source": [
        "\n",
        "# **Preprocessing**\n",
        "For each comments without political party names , We are adding political party names beside political leader names . For example in BJP file \"modi is the best\" is replaced by \"BJP modi is the best\" or \"Rahul Gandhi is the best\" is replaced by \"Congress Rahul Gandhi is the best\". Here BJP and Congress are the prominent Indian political parties. We are putting it in each documents(comments) so that model can learn easily to classify them into favour of BJP or Congress."
      ]
    },
    {
      "cell_type": "code",
      "metadata": {
        "id": "kScD51hKG5KO",
        "colab_type": "code",
        "outputId": "4234c5d4-e9ca-4f4c-fdd5-8c6a56b8eeea",
        "colab": {
          "base_uri": "https://localhost:8080/",
          "height": 204
        }
      },
      "source": [
        "df_bjp = pd.read_csv(path+\"BJP_dataset.csv\", encoding=\"ISO-8859-1\")\n",
        "\n",
        "\n",
        "def returneditedBJP (x): \n",
        "  comment = x.lower()\n",
        "  if( (' rahul ' not in comment and 'rahul ' not in comment) and ' congress ' not in comment and ' cong ' not in comment):\n",
        "    comment = ' BJP ' + comment\n",
        "  elif ('rahul' in comment or ' rahul' in comment or 'rahul ' in comment):\n",
        "    comment = comment.replace('rahul', ' CONGRESS RAHUL ' )\n",
        "\n",
        "  return comment\n",
        "\n",
        "  \n",
        "\n",
        "\n",
        "df_bjp['commentText'] =  df_bjp['commentText'].apply(lambda x : returneditedBJP(x)) \n",
        "\n",
        "    \n",
        "#df_bjp['commentText'] =  df_bjp['commentText'].apply(lambda x : ' BJP ' + x if 'Rahul'  not in x.split()) \n",
        "\n",
        "\n",
        "def returnedited (x):\n",
        "  comment = x.lower()\n",
        "  if( (' modi ' not in comment or 'modi ' not in comment) and ' bjp ' not in comment):\n",
        "    comment = ' CONGRESS ' + comment\n",
        "    \n",
        "  elif ( 'modi '  in comment or  ' modi' in comment) :\n",
        "    comment = comment.replace('modi ', ' BJP MODI ' )\n",
        "    \n",
        "  return comment\n",
        "\n",
        "df_congress = pd.read_csv(path+\"Congress_dataset.csv\", encoding=\"ISO-8859-1\")\n",
        "df_congress['commentText'] =  df_congress['commentText'].apply(lambda x : returnedited(x)) \n",
        "\n",
        "    \n",
        "    \n",
        "  \n",
        "#creating new column newlabel   \n",
        "df_congress[\"newLabel\"] = 0\n",
        "\n",
        "df_congress.columns\n",
        "df_bjp.head()  \n",
        "#df_bjp= df_congress\n",
        "#df_bjp.head()"
      ],
      "execution_count": 0,
      "outputs": [
        {
          "output_type": "execute_result",
          "data": {
            "text/html": [
              "<div>\n",
              "<style scoped>\n",
              "    .dataframe tbody tr th:only-of-type {\n",
              "        vertical-align: middle;\n",
              "    }\n",
              "\n",
              "    .dataframe tbody tr th {\n",
              "        vertical-align: top;\n",
              "    }\n",
              "\n",
              "    .dataframe thead th {\n",
              "        text-align: right;\n",
              "    }\n",
              "</style>\n",
              "<table border=\"1\" class=\"dataframe\">\n",
              "  <thead>\n",
              "    <tr style=\"text-align: right;\">\n",
              "      <th></th>\n",
              "      <th>commentText</th>\n",
              "      <th>Label</th>\n",
              "    </tr>\n",
              "  </thead>\n",
              "  <tbody>\n",
              "    <tr>\n",
              "      <th>0</th>\n",
              "      <td>BJP banda apna 100 % best he</td>\n",
              "      <td>1</td>\n",
              "    </tr>\n",
              "    <tr>\n",
              "      <th>1</th>\n",
              "      <td>BJP we need the king maker  ---- narendra modi</td>\n",
              "      <td>1</td>\n",
              "    </tr>\n",
              "    <tr>\n",
              "      <th>2</th>\n",
              "      <td>BJP awesome... banda apna best hai</td>\n",
              "      <td>1</td>\n",
              "    </tr>\n",
              "    <tr>\n",
              "      <th>3</th>\n",
              "      <td>BJP best pm ever</td>\n",
              "      <td>1</td>\n",
              "    </tr>\n",
              "    <tr>\n",
              "      <th>4</th>\n",
              "      <td>CONGRESS RAHUL  gandhi left the chat</td>\n",
              "      <td>1</td>\n",
              "    </tr>\n",
              "  </tbody>\n",
              "</table>\n",
              "</div>"
            ],
            "text/plain": [
              "                                       commentText  Label\n",
              "0                     BJP banda apna 100 % best he      1\n",
              "1   BJP we need the king maker  ---- narendra modi      1\n",
              "2               BJP awesome... banda apna best hai      1\n",
              "3                                 BJP best pm ever      1\n",
              "4             CONGRESS RAHUL  gandhi left the chat      1"
            ]
          },
          "metadata": {
            "tags": []
          },
          "execution_count": 4
        }
      ]
    },
    {
      "cell_type": "code",
      "metadata": {
        "id": "MmgKt1bwhaJv",
        "colab_type": "code",
        "outputId": "b8a986ec-c16a-416a-b063-b70d9598c95a",
        "colab": {
          "base_uri": "https://localhost:8080/",
          "height": 187
        }
      },
      "source": [
        "#Assigning 1 where comments are in favour of BJP and 0 where in favour of congress in comments of congress related xls file.\n",
        "df_congress.newLabel[df_congress.Label == 0] =1\n",
        "df_congress.newLabel[df_congress.Label == 1] =0\n",
        "#dropping column label\n",
        "df_congress.drop(columns=\"Label\", inplace= True)\n",
        "#renaming column newlabel to label\n",
        "df_congress.rename(columns={\"newLabel\":\"Label\"} , inplace= True)"
      ],
      "execution_count": 0,
      "outputs": [
        {
          "output_type": "stream",
          "text": [
            "/usr/local/lib/python3.6/dist-packages/ipykernel_launcher.py:1: SettingWithCopyWarning: \n",
            "A value is trying to be set on a copy of a slice from a DataFrame\n",
            "\n",
            "See the caveats in the documentation: http://pandas.pydata.org/pandas-docs/stable/user_guide/indexing.html#returning-a-view-versus-a-copy\n",
            "  \"\"\"Entry point for launching an IPython kernel.\n",
            "/usr/local/lib/python3.6/dist-packages/ipykernel_launcher.py:2: SettingWithCopyWarning: \n",
            "A value is trying to be set on a copy of a slice from a DataFrame\n",
            "\n",
            "See the caveats in the documentation: http://pandas.pydata.org/pandas-docs/stable/user_guide/indexing.html#returning-a-view-versus-a-copy\n",
            "  \n"
          ],
          "name": "stderr"
        }
      ]
    },
    {
      "cell_type": "code",
      "metadata": {
        "id": "DOvoux8Hk2Vf",
        "colab_type": "code",
        "outputId": "9aa13e82-aee8-48b9-9ba1-fbb5095e5550",
        "colab": {
          "base_uri": "https://localhost:8080/",
          "height": 68
        }
      },
      "source": [
        "print(df_bjp.shape)\n",
        "print(df_congress.shape)\n",
        "#merging dataframes of bjp and congress\n",
        "df_bjp = pd.concat([df_bjp, df_congress])\n",
        "\n",
        "print(df_bjp.shape)\n",
        "df_bjp.columns\n",
        "df_bjp.reset_index(inplace= True)"
      ],
      "execution_count": 0,
      "outputs": [
        {
          "output_type": "stream",
          "text": [
            "(1952, 2)\n",
            "(1998, 2)\n",
            "(3950, 2)\n"
          ],
          "name": "stdout"
        }
      ]
    },
    {
      "cell_type": "code",
      "metadata": {
        "id": "OJLqx_yYk6kr",
        "colab_type": "code",
        "outputId": "df922954-42b8-41ec-b592-844c78d9aa28",
        "colab": {
          "base_uri": "https://localhost:8080/",
          "height": 51
        }
      },
      "source": [
        "import nltk\n",
        "from sklearn.feature_extraction import text\n",
        "from sklearn.feature_extraction.text import TfidfVectorizer\n",
        "from nltk.corpus import stopwords\n",
        "nltk.download('stopwords')\n",
        "from nltk.tokenize import RegexpTokenizer\n",
        "from nltk.stem.snowball import SnowballStemmer"
      ],
      "execution_count": 0,
      "outputs": [
        {
          "output_type": "stream",
          "text": [
            "[nltk_data] Downloading package stopwords to /root/nltk_data...\n",
            "[nltk_data]   Unzipping corpora/stopwords.zip.\n"
          ],
          "name": "stdout"
        }
      ]
    },
    {
      "cell_type": "code",
      "metadata": {
        "id": "sjpG8jxJk-BK",
        "colab_type": "code",
        "outputId": "2e73c8e0-1eea-4a25-ea34-db217ba383a6",
        "colab": {
          "base_uri": "https://localhost:8080/",
          "height": 34
        }
      },
      "source": [
        "punc = ['.', ',', '\"', \"'\", '?','??', '!', ':', ';', '(', ')', '[', ']', '{', '}',\"%\",'???']\n",
        "# hingstops= ['kaun', 'kyun', 'im', 'm', 'i', 'se', 'u', 'esi', 'ho', 'is', 'aap', 'ab', 'actually', 'alreadi', 'always', 'amaz', 'ap', 'apna', 'apne', 'apni', 'aur', 'b', 'j', 'b', 'j', 'p', \n",
        "#             'banda', 'aa', 'aab', 'aadmi', 'aam', 'ad' ,'agar' ,'aisa', 'aise', 'aisi', 'ak', 'bar', 'aur', 'away', 'b', 'baad', 'd', 'abhi', 'baat', 'hai'\n",
        "#             'h', 'ko', 'ku', 'vs', 'boy', 'bro', 'brothers', 'sisters' ,'sister', 'brother', 'bt', 'c', 'chal', 'chale', 'cm', 'com', 'yaar',\n",
        "#             'bhar', 'bhi', 'itni', 'bhot', 'bhut', 'bilkul', 'till', 'tha' ,'h', 'ye' ,'y', 'yuhi', 'yun', 'to', 'e', 'ki', 'ad', 'd', 'g', 'tha', 'modi','rahul','2019']\n",
        "stop_words= punc\n",
        "\n",
        "len(stop_words)\n",
        "#stop_words"
      ],
      "execution_count": 0,
      "outputs": [
        {
          "output_type": "execute_result",
          "data": {
            "text/plain": [
              "17"
            ]
          },
          "metadata": {
            "tags": []
          },
          "execution_count": 8
        }
      ]
    },
    {
      "cell_type": "code",
      "metadata": {
        "id": "ZC6uro6VlJ6z",
        "colab_type": "code",
        "outputId": "352ecd99-24ab-4c02-de58-97ef7a8c4af1",
        "colab": {
          "base_uri": "https://localhost:8080/",
          "height": 136
        }
      },
      "source": [
        "import nltk\n",
        "nltk.download('averaged_perceptron_tagger')\n",
        "nltk.download('punkt')\n",
        "nltk.download('wordnet')\n",
        "from nltk.tokenize import RegexpTokenizer\n",
        "from nltk.stem import WordNetLemmatizer\n",
        "from nltk.tokenize import sent_tokenize, word_tokenize\n",
        "\n",
        "stemmer = SnowballStemmer('english')\n",
        "\n",
        "wordnet_lemmatizer = WordNetLemmatizer()\n",
        "    \n",
        "tokenizer = RegexpTokenizer(r'[a-zA-Z\\']+')\n",
        "\n",
        "   \n",
        "  \n",
        "def tokenize(text):\n",
        "  wordlist= []\n",
        "  for word in tokenizer.tokenize(text.lower()):\n",
        "    wordlist.append(word) \n",
        "    #wordlisy.append(stemmer.stem(word))\n",
        "  return wordlist"
      ],
      "execution_count": 0,
      "outputs": [
        {
          "output_type": "stream",
          "text": [
            "[nltk_data] Downloading package averaged_perceptron_tagger to\n",
            "[nltk_data]     /root/nltk_data...\n",
            "[nltk_data]   Unzipping taggers/averaged_perceptron_tagger.zip.\n",
            "[nltk_data] Downloading package punkt to /root/nltk_data...\n",
            "[nltk_data]   Unzipping tokenizers/punkt.zip.\n",
            "[nltk_data] Downloading package wordnet to /root/nltk_data...\n",
            "[nltk_data]   Unzipping corpora/wordnet.zip.\n"
          ],
          "name": "stdout"
        }
      ]
    },
    {
      "cell_type": "markdown",
      "metadata": {
        "id": "HzHfmvSgoK6e",
        "colab_type": "text"
      },
      "source": [
        "# Keras tokenizer and Train Test Split¶"
      ]
    },
    {
      "cell_type": "code",
      "metadata": {
        "id": "B7iuSaOcoVCv",
        "colab_type": "code",
        "outputId": "bfa49f2e-8477-4147-c24b-35b1b5cd6499",
        "colab": {
          "base_uri": "https://localhost:8080/",
          "height": 102
        }
      },
      "source": [
        "from keras.models import Sequential\n",
        "from keras.layers import Dense, Dropout, Activation\n",
        "from keras.layers import Embedding\n",
        "from keras.layers import Conv1D, GlobalMaxPooling1D\n",
        "from keras.preprocessing.text import Tokenizer\n",
        "from keras.preprocessing import sequence\n",
        "from sklearn.preprocessing import LabelEncoder\n",
        "import time\n",
        "from keras import metrics\n",
        "from sklearn.model_selection import train_test_split\n",
        "\n",
        "\n",
        "max_fatures = 5800 #or vocab size\n",
        "#Keras tokenizer \n",
        "tokenizer = Tokenizer(nb_words=max_fatures, split=' ', )\n",
        "tokenizer.fit_on_texts(df_bjp.commentText.values)\n",
        "X1 = tokenizer.texts_to_sequences(df_bjp.commentText.values)\n",
        "X1 = sequence.pad_sequences(X1, maxlen= max_fatures)\n",
        "\n",
        "Y1 = (df_bjp.Label).values #pd.get_dummies\n",
        "\n",
        "#Train test split\n",
        "X1_train, X1_test, Y1_train, Y1_test = train_test_split(X1,Y1, random_state = 42)\n",
        "print(X1_train.shape,Y1_train.shape)\n",
        "print(X1_test.shape,Y1_test.shape)\n",
        "word_index = tokenizer.word_index\n",
        "print('Found %s unique tokens.' % len(word_index))\n",
        "#print(X1_train[0:10])"
      ],
      "execution_count": 0,
      "outputs": [
        {
          "output_type": "stream",
          "text": [
            "(2962, 5800) (2962,)\n",
            "(988, 5800) (988,)\n",
            "Found 5824 unique tokens.\n"
          ],
          "name": "stdout"
        },
        {
          "output_type": "stream",
          "text": [
            "/usr/local/lib/python3.6/dist-packages/keras_preprocessing/text.py:178: UserWarning: The `nb_words` argument in `Tokenizer` has been renamed `num_words`.\n",
            "  warnings.warn('The `nb_words` argument in `Tokenizer` '\n"
          ],
          "name": "stderr"
        }
      ]
    },
    {
      "cell_type": "markdown",
      "metadata": {
        "id": "_44paB7ExRMg",
        "colab_type": "text"
      },
      "source": [
        "# **MODELS**\n",
        "# CNN_LSTM"
      ]
    },
    {
      "cell_type": "code",
      "metadata": {
        "id": "f5Ny0a1hoZQq",
        "colab_type": "code",
        "outputId": "129048c6-796c-4b2f-b352-22d23871c40b",
        "colab": {
          "base_uri": "https://localhost:8080/",
          "height": 462
        }
      },
      "source": [
        "from keras.layers import Dense, Flatten, LSTM, Conv1D, MaxPooling1D, Dropout, Activation\n",
        "from numpy.random import seed\n",
        "embed_dim = 150\n",
        "lstm_out = 500\n",
        "model = Sequential()\n",
        "model.add(Embedding(max_fatures, embed_dim,input_length = X1.shape[1], dropout=0.1))\n",
        "model.add(Conv1D(64, kernel_size=5, activation='relu')) #64 * 64 # 128 * 128 5 FILTERS i/p - 10 filters +1 = 491\n",
        "model.add(MaxPooling1D(pool_size=4)) # 4 LAYERS OF POOLING\n",
        "model.add(Conv1D(64, kernel_size=2, activation='relu'))\n",
        "model.add(MaxPooling1D(pool_size=4))\n",
        "model.add(LSTM(64,  return_sequences = False))\n",
        "model.add(Dense(1,activation='sigmoid'))\n",
        "model.compile(loss = 'binary_crossentropy', optimizer='adam',metrics = ['accuracy'])\n",
        "print(model.summary())"
      ],
      "execution_count": 0,
      "outputs": [
        {
          "output_type": "stream",
          "text": [
            "/usr/local/lib/python3.6/dist-packages/ipykernel_launcher.py:6: UserWarning: The `dropout` argument is no longer support in `Embedding`. You can apply a `keras.layers.SpatialDropout1D` layer right after the `Embedding` layer to get the same behavior.\n",
            "  \n"
          ],
          "name": "stderr"
        },
        {
          "output_type": "stream",
          "text": [
            "Model: \"sequential_2\"\n",
            "_________________________________________________________________\n",
            "Layer (type)                 Output Shape              Param #   \n",
            "=================================================================\n",
            "embedding_2 (Embedding)      (None, 5800, 150)         870000    \n",
            "_________________________________________________________________\n",
            "conv1d_3 (Conv1D)            (None, 5796, 64)          48064     \n",
            "_________________________________________________________________\n",
            "max_pooling1d_3 (MaxPooling1 (None, 1449, 64)          0         \n",
            "_________________________________________________________________\n",
            "conv1d_4 (Conv1D)            (None, 1448, 64)          8256      \n",
            "_________________________________________________________________\n",
            "max_pooling1d_4 (MaxPooling1 (None, 362, 64)           0         \n",
            "_________________________________________________________________\n",
            "lstm_2 (LSTM)                (None, 64)                33024     \n",
            "_________________________________________________________________\n",
            "dense_2 (Dense)              (None, 1)                 65        \n",
            "=================================================================\n",
            "Total params: 959,409\n",
            "Trainable params: 959,409\n",
            "Non-trainable params: 0\n",
            "_________________________________________________________________\n",
            "None\n"
          ],
          "name": "stdout"
        }
      ]
    },
    {
      "cell_type": "markdown",
      "metadata": {
        "id": "5M5tB348xdY_",
        "colab_type": "text"
      },
      "source": [
        "# Training the model"
      ]
    },
    {
      "cell_type": "code",
      "metadata": {
        "id": "_e2IMtU8xYKf",
        "colab_type": "code",
        "outputId": "c5fea306-30ca-4b35-bd96-5a07ae67cd4d",
        "colab": {
          "base_uri": "https://localhost:8080/",
          "height": 544
        }
      },
      "source": [
        "import time\n",
        "\n",
        "start_time = time.clock()\n",
        "\n",
        "model.fit(X1_train,Y1_train,batch_size=150,epochs=15,verbose=1)\n",
        "print (time.clock() - start_time, \"seconds\")"
      ],
      "execution_count": 0,
      "outputs": [
        {
          "output_type": "stream",
          "text": [
            "Epoch 1/15\n",
            "2962/2962 [==============================] - 14s 5ms/step - loss: 0.6924 - acc: 0.5378\n",
            "Epoch 2/15\n",
            "2962/2962 [==============================] - 13s 4ms/step - loss: 0.6707 - acc: 0.6610\n",
            "Epoch 3/15\n",
            "2962/2962 [==============================] - 13s 4ms/step - loss: 0.5333 - acc: 0.7397\n",
            "Epoch 4/15\n",
            "2962/2962 [==============================] - 12s 4ms/step - loss: 0.3208 - acc: 0.8785\n",
            "Epoch 5/15\n",
            "2962/2962 [==============================] - 13s 4ms/step - loss: 0.1944 - acc: 0.9298\n",
            "Epoch 6/15\n",
            "2962/2962 [==============================] - 13s 4ms/step - loss: 0.1316 - acc: 0.9564\n",
            "Epoch 7/15\n",
            "2962/2962 [==============================] - 13s 4ms/step - loss: 0.0936 - acc: 0.9673\n",
            "Epoch 8/15\n",
            "2962/2962 [==============================] - 12s 4ms/step - loss: 0.0783 - acc: 0.9733\n",
            "Epoch 9/15\n",
            "2962/2962 [==============================] - 13s 4ms/step - loss: 0.0555 - acc: 0.9828\n",
            "Epoch 10/15\n",
            "2962/2962 [==============================] - 13s 4ms/step - loss: 0.0535 - acc: 0.9851\n",
            "Epoch 11/15\n",
            "2962/2962 [==============================] - 13s 4ms/step - loss: 0.0388 - acc: 0.9872\n",
            "Epoch 12/15\n",
            "2962/2962 [==============================] - 13s 4ms/step - loss: 0.0343 - acc: 0.9885\n",
            "Epoch 13/15\n",
            "2962/2962 [==============================] - 13s 4ms/step - loss: 0.0323 - acc: 0.9892\n",
            "Epoch 14/15\n",
            "2962/2962 [==============================] - 13s 4ms/step - loss: 0.0310 - acc: 0.9892\n",
            "Epoch 15/15\n",
            "2962/2962 [==============================] - 13s 4ms/step - loss: 0.0298 - acc: 0.9902\n",
            "256.278291 seconds\n"
          ],
          "name": "stdout"
        }
      ]
    },
    {
      "cell_type": "markdown",
      "metadata": {
        "id": "WMmzZUIQxwPB",
        "colab_type": "text"
      },
      "source": [
        "# Evaluating CNN-LSTM"
      ]
    },
    {
      "cell_type": "code",
      "metadata": {
        "id": "BGc_jSqjxmVv",
        "colab_type": "code",
        "outputId": "10d46d30-dc00-4031-f4c9-f56d779504b6",
        "colab": {
          "base_uri": "https://localhost:8080/",
          "height": 51
        }
      },
      "source": [
        "model.evaluate(X1_test, Y1_test)\n",
        "#output: [loss, accuracy]"
      ],
      "execution_count": 0,
      "outputs": [
        {
          "output_type": "stream",
          "text": [
            "988/988 [==============================] - 6s 7ms/step\n"
          ],
          "name": "stdout"
        },
        {
          "output_type": "execute_result",
          "data": {
            "text/plain": [
              "[0.9098198437980312, 0.8046558711692872]"
            ]
          },
          "metadata": {
            "tags": []
          },
          "execution_count": 20
        }
      ]
    },
    {
      "cell_type": "markdown",
      "metadata": {
        "id": "IDwfuEL9zi7d",
        "colab_type": "text"
      },
      "source": [
        "# ROC for CNN-LSTM"
      ]
    },
    {
      "cell_type": "code",
      "metadata": {
        "id": "xfNrJzu-zf-h",
        "colab_type": "code",
        "outputId": "2ce7c7d0-bbc2-4ae2-eb25-cbcdaa9cadea",
        "colab": {
          "base_uri": "https://localhost:8080/",
          "height": 282
        }
      },
      "source": [
        "# from sklearn.metrics import precision_recall_curve\n",
        "# precision, recall, thresholds = precision_recall_curve(Y1_test, model.predict(X1_test))\n",
        "from sklearn.metrics import roc_curve\n",
        "y_pred_keras = model.predict(X1_test).ravel()\n",
        "fpr_keras, tpr_keras, thresholds_keras = roc_curve(Y1_test, model.predict(X1_test))\n",
        "\n",
        "from sklearn.metrics import roc_auc_score, auc\n",
        "from matplotlib import pyplot\n",
        "print(\"AUC: \"+ str(auc(fpr_keras, tpr_keras)))\n",
        "pyplot.plot([0, 1], [0, 1], linestyle='--')\n",
        "# plot the roc curve for the model\n",
        "pyplot.plot(fpr_keras, tpr_keras, marker='.')\n",
        "# show the plot\n",
        "pyplot.show()"
      ],
      "execution_count": 0,
      "outputs": [
        {
          "output_type": "stream",
          "text": [
            "AUC: 0.8544135726579788\n"
          ],
          "name": "stdout"
        },
        {
          "output_type": "display_data",
          "data": {
            "image/png": "[encoded data removed]",
            "text/plain": [
              "<Figure size 432x288 with 1 Axes>"
            ]
          },
          "metadata": {
            "tags": []
          }
        }
      ]
    },
    {
      "cell_type": "markdown",
      "metadata": {
        "id": "Fp-YIa4n77PV",
        "colab_type": "text"
      },
      "source": [
        "# **Confusion Matrix CNN-LSTM**"
      ]
    },
    {
      "cell_type": "code",
      "metadata": {
        "id": "HsSrMSd175tN",
        "colab_type": "code",
        "outputId": "500fb4a7-2726-441c-da72-8224b1bea435",
        "colab": {
          "base_uri": "https://localhost:8080/",
          "height": 51
        }
      },
      "source": [
        "confusion_matrix(Y1_test, np.round(model.predict(X1_test)))"
      ],
      "execution_count": 0,
      "outputs": [
        {
          "output_type": "execute_result",
          "data": {
            "text/plain": [
              "array([[462,  28],\n",
              "       [416,  82]])"
            ]
          },
          "metadata": {
            "tags": []
          },
          "execution_count": 41
        }
      ]
    },
    {
      "cell_type": "markdown",
      "metadata": {
        "id": "4A5E11QfzwPW",
        "colab_type": "text"
      },
      "source": [
        "# **MultiLayer Perceptron using TF-IDF vectorization**\n",
        "\n"
      ]
    },
    {
      "cell_type": "code",
      "metadata": {
        "id": "M4-GKZuQzoQ2",
        "colab_type": "code",
        "colab": {}
      },
      "source": [
        "vectorizer = TfidfVectorizer(stop_words = stop_words, tokenizer = tokenize, max_features = 5300,ngram_range=(1,5), lowercase= True)"
      ],
      "execution_count": 0,
      "outputs": []
    },
    {
      "cell_type": "code",
      "metadata": {
        "id": "UJtZqYGdz3jh",
        "colab_type": "code",
        "colab": {}
      },
      "source": [
        "tfdf = vectorizer.fit_transform(df_bjp.commentText)"
      ],
      "execution_count": 0,
      "outputs": []
    },
    {
      "cell_type": "code",
      "metadata": {
        "id": "Apq-oyBd07Su",
        "colab_type": "code",
        "colab": {}
      },
      "source": [
        "words = vectorizer.get_feature_names()"
      ],
      "execution_count": 0,
      "outputs": []
    },
    {
      "cell_type": "markdown",
      "metadata": {
        "id": "8MF1vy_-3pLN",
        "colab_type": "text"
      },
      "source": [
        "# Train test split"
      ]
    },
    {
      "cell_type": "code",
      "metadata": {
        "id": "Fig43SNv3tqb",
        "colab_type": "code",
        "colab": {}
      },
      "source": [
        "from sklearn.model_selection import train_test_split\n",
        "y= df_bjp.Label\n",
        "X_train, X_test, y_train, y_test = train_test_split( tfdf, y, test_size=0.2, random_state=42)"
      ],
      "execution_count": 0,
      "outputs": []
    },
    {
      "cell_type": "markdown",
      "metadata": {
        "id": "8u8iHhFC3yeG",
        "colab_type": "text"
      },
      "source": [
        "# Building MLP"
      ]
    },
    {
      "cell_type": "code",
      "metadata": {
        "id": "nnEfV4Tr3kcz",
        "colab_type": "code",
        "outputId": "8ec9b0c1-f45e-462a-928b-59f487719fb5",
        "colab": {
          "base_uri": "https://localhost:8080/",
          "height": 476
        }
      },
      "source": [
        "import numpy as np\n",
        "from keras.models import Sequential\n",
        "from keras.layers import Dense, Dropout\n",
        "mlp = Sequential()\n",
        "mlp.add(Dense(500, input_dim=5300, activation='relu'))\n",
        "mlp.add(Dropout(0.1))\n",
        "mlp.add(Dense(550, activation='relu'))\n",
        "mlp.add(Dropout(0.1))\n",
        "\n",
        "mlp.add(Dense(100, activation='relu'))\n",
        "mlp.add(Dropout(0.1))\n",
        "\n",
        "mlp.add(Dense(10, activation='relu'))\n",
        "mlp.add(Dropout(0.1))\n",
        "\n",
        "\n",
        "mlp.add(Dense(1, activation='sigmoid'))\n",
        "#best2937 hiddden 200 1\n",
        "# 82.10 500 550 500 5000 10\n",
        "# Compile model\n",
        "from keras import optimizers\n",
        "opt =optimizers.adamax(lr=0.001)\n",
        "mlp.compile(loss='binary_crossentropy', optimizer=opt, metrics=['accuracy'])\n",
        "print(mlp.summary())"
      ],
      "execution_count": 0,
      "outputs": [
        {
          "output_type": "stream",
          "text": [
            "Model: \"sequential_8\"\n",
            "_________________________________________________________________\n",
            "Layer (type)                 Output Shape              Param #   \n",
            "=================================================================\n",
            "dense_36 (Dense)             (None, 500)               2650500   \n",
            "_________________________________________________________________\n",
            "dropout_29 (Dropout)         (None, 500)               0         \n",
            "_________________________________________________________________\n",
            "dense_37 (Dense)             (None, 550)               275550    \n",
            "_________________________________________________________________\n",
            "dropout_30 (Dropout)         (None, 550)               0         \n",
            "_________________________________________________________________\n",
            "dense_38 (Dense)             (None, 100)               55100     \n",
            "_________________________________________________________________\n",
            "dropout_31 (Dropout)         (None, 100)               0         \n",
            "_________________________________________________________________\n",
            "dense_39 (Dense)             (None, 10)                1010      \n",
            "_________________________________________________________________\n",
            "dropout_32 (Dropout)         (None, 10)                0         \n",
            "_________________________________________________________________\n",
            "dense_40 (Dense)             (None, 1)                 11        \n",
            "=================================================================\n",
            "Total params: 2,982,171\n",
            "Trainable params: 2,982,171\n",
            "Non-trainable params: 0\n",
            "_________________________________________________________________\n",
            "None\n"
          ],
          "name": "stdout"
        }
      ]
    },
    {
      "cell_type": "code",
      "metadata": {
        "id": "Sq82IqP0DGFK",
        "colab_type": "code",
        "outputId": "25c239c0-15d5-4e9c-832c-cb8cc15c76c7",
        "colab": {
          "base_uri": "https://localhost:8080/",
          "height": 544
        }
      },
      "source": [
        "import time\n",
        "start_time = time.clock()\n",
        "\n",
        "# Fit the model\n",
        "mlp.fit(X_train, y_train, epochs=15, batch_size=150 )\n",
        "\n",
        "print (time.clock() - start_time, \"seconds\")"
      ],
      "execution_count": 0,
      "outputs": [
        {
          "output_type": "stream",
          "text": [
            "Epoch 1/15\n",
            "3160/3160 [==============================] - 1s 300us/step - loss: 0.6732 - acc: 0.6589\n",
            "Epoch 2/15\n",
            "3160/3160 [==============================] - 0s 75us/step - loss: 0.5262 - acc: 0.8070\n",
            "Epoch 3/15\n",
            "3160/3160 [==============================] - 0s 74us/step - loss: 0.3409 - acc: 0.8722\n",
            "Epoch 4/15\n",
            "3160/3160 [==============================] - 0s 75us/step - loss: 0.2265 - acc: 0.9288\n",
            "Epoch 5/15\n",
            "3160/3160 [==============================] - 0s 71us/step - loss: 0.1670 - acc: 0.9500\n",
            "Epoch 6/15\n",
            "3160/3160 [==============================] - 0s 71us/step - loss: 0.1311 - acc: 0.9620\n",
            "Epoch 7/15\n",
            "3160/3160 [==============================] - 0s 70us/step - loss: 0.1063 - acc: 0.9671\n",
            "Epoch 8/15\n",
            "3160/3160 [==============================] - 0s 68us/step - loss: 0.0869 - acc: 0.9769\n",
            "Epoch 9/15\n",
            "3160/3160 [==============================] - 0s 78us/step - loss: 0.0778 - acc: 0.9788\n",
            "Epoch 10/15\n",
            "3160/3160 [==============================] - 0s 80us/step - loss: 0.0720 - acc: 0.9804\n",
            "Epoch 11/15\n",
            "3160/3160 [==============================] - 0s 73us/step - loss: 0.0615 - acc: 0.9823\n",
            "Epoch 12/15\n",
            "3160/3160 [==============================] - 0s 64us/step - loss: 0.0581 - acc: 0.9810\n",
            "Epoch 13/15\n",
            "3160/3160 [==============================] - 0s 68us/step - loss: 0.0576 - acc: 0.9801\n",
            "Epoch 14/15\n",
            "3160/3160 [==============================] - 0s 62us/step - loss: 0.0516 - acc: 0.9851\n",
            "Epoch 15/15\n",
            "3160/3160 [==============================] - 0s 64us/step - loss: 0.0505 - acc: 0.9829\n",
            "5.009938000000002 seconds\n"
          ],
          "name": "stdout"
        }
      ]
    },
    {
      "cell_type": "markdown",
      "metadata": {
        "id": "41uMhg6g4hkm",
        "colab_type": "text"
      },
      "source": [
        "# **Evaluating MLP**"
      ]
    },
    {
      "cell_type": "code",
      "metadata": {
        "id": "BmZfWk4F4fch",
        "colab_type": "code",
        "outputId": "78f3f28a-00e9-4a72-ae0d-ed225e14dcfc",
        "colab": {
          "base_uri": "https://localhost:8080/",
          "height": 51
        }
      },
      "source": [
        "print(mlp.evaluate(X_test, y_test))\n",
        "##output: [loss, accuracy]"
      ],
      "execution_count": 0,
      "outputs": [
        {
          "output_type": "stream",
          "text": [
            "790/790 [==============================] - 0s 305us/step\n",
            "[0.6052622429177731, 0.8253164564506917]\n"
          ],
          "name": "stdout"
        }
      ]
    },
    {
      "cell_type": "markdown",
      "metadata": {
        "id": "9xI2UpSI5RPh",
        "colab_type": "text"
      },
      "source": [
        "# **ROC For MLP**"
      ]
    },
    {
      "cell_type": "code",
      "metadata": {
        "id": "_Zekpdn45Mzf",
        "colab_type": "code",
        "outputId": "4c8c07a1-5b57-4c1d-a789-a4f3263d04ce",
        "colab": {
          "base_uri": "https://localhost:8080/",
          "height": 282
        }
      },
      "source": [
        "# from sklearn.metrics import precision_recall_curve\n",
        "# precision, recall, thresholds = precision_recall_curve(Y1_test, model.predict(X1_test))\n",
        "from sklearn.metrics import roc_curve\n",
        "fpr_keras, tpr_keras, thresholds_keras = roc_curve(y_test, mlp.predict(X_test))\n",
        "\n",
        "from sklearn.metrics import roc_auc_score, auc\n",
        "from matplotlib import pyplot\n",
        "\n",
        "print(\"AUC: \"+ str(auc(fpr_keras, tpr_keras)))\n",
        "\n",
        "pyplot.plot([0, 1], [0, 1], linestyle='--')\n",
        "# plot the roc curve for the model\n",
        "pyplot.plot(fpr_keras, tpr_keras, marker='.')\n",
        "# show the plot\n",
        "pyplot.show()"
      ],
      "execution_count": 0,
      "outputs": [
        {
          "output_type": "stream",
          "text": [
            "AUC: 0.9050998594071991\n"
          ],
          "name": "stdout"
        },
        {
          "output_type": "display_data",
          "data": {
            "image/png": "[encoded data removed]",
            "text/plain": [
              "<Figure size 432x288 with 1 Axes>"
            ]
          },
          "metadata": {
            "tags": []
          }
        }
      ]
    },
    {
      "cell_type": "markdown",
      "metadata": {
        "id": "Gg4ouhuYQc9W",
        "colab_type": "text"
      },
      "source": [
        "# **Confusion Matrix MLP**"
      ]
    },
    {
      "cell_type": "code",
      "metadata": {
        "id": "g2B8zJ4O5izX",
        "colab_type": "code",
        "outputId": "b6735f27-27d9-4a6f-aed4-60a387fc9555",
        "colab": {
          "base_uri": "https://localhost:8080/",
          "height": 51
        }
      },
      "source": [
        "confusion_matrix(y_test, np.round(mlp.predict(X_test)))"
      ],
      "execution_count": 0,
      "outputs": [
        {
          "output_type": "execute_result",
          "data": {
            "text/plain": [
              "array([[312,  67],\n",
              "       [ 71, 340]])"
            ]
          },
          "metadata": {
            "tags": []
          },
          "execution_count": 35
        }
      ]
    },
    {
      "cell_type": "code",
      "metadata": {
        "id": "e4wnrvLOF8VM",
        "colab_type": "code",
        "colab": {}
      },
      "source": [
        ""
      ],
      "execution_count": 0,
      "outputs": []
    }
  ]
}